{
  "nbformat": 4,
  "nbformat_minor": 0,
  "metadata": {
    "colab": {
      "provenance": [],
      "authorship_tag": "ABX9TyNyvX3vCyDfq2UOVvKqWuY5",
      "include_colab_link": true
    },
    "kernelspec": {
      "name": "python3",
      "display_name": "Python 3"
    },
    "language_info": {
      "name": "python"
    }
  },
  "cells": [
    {
      "cell_type": "markdown",
      "metadata": {
        "id": "view-in-github",
        "colab_type": "text"
      },
      "source": [
        "<a href=\"https://colab.research.google.com/github/MeenalJy/python-task-1/blob/main/simple_calculator.ipynb\" target=\"_parent\"><img src=\"https://colab.research.google.com/assets/colab-badge.svg\" alt=\"Open In Colab\"/></a>"
      ]
    },
    {
      "cell_type": "code",
      "source": [
        "num_1 = float(input(\"Enter the first number:\"))\n",
        "num_2 = int(input(\"Enter the second number:\"))\n",
        "\n",
        "choice = input(\"Choose your operator + - * / \")\n",
        "\n",
        "if choice == \"+\":\n",
        "  sum = num_1 + num_2\n",
        "  print(\"The sum is\", sum)\n",
        "\n",
        "elif choice == \"-\":\n",
        "  diff = num_1 - num_2\n",
        "  print(\"The difference is\", diff)\n",
        "\n",
        "elif choice == \"*\":\n",
        "  mul = num_1 * num_2\n",
        "  print(\"The multiplication is\", mul)\n",
        "\n",
        "elif choice == \"/\":\n",
        "  div = num_1 / num_2\n",
        "  print(\"The division is\", div)\n",
        "\n",
        "else:\n",
        "  print(\"Invalid Choice\")\n",
        ""
      ],
      "metadata": {
        "colab": {
          "base_uri": "https://localhost:8080/"
        },
        "id": "USyz-HuWeJWu",
        "outputId": "cfe0069d-73b0-4be3-8552-d89edcb2355e"
      },
      "execution_count": 1,
      "outputs": [
        {
          "output_type": "stream",
          "name": "stdout",
          "text": [
            "Enter the first number:10\n",
            "Enter the second number:20\n",
            "Choose your operator + - * / *\n",
            "The multiplication is 200.0\n"
          ]
        }
      ]
    },
    {
      "cell_type": "code",
      "source": [],
      "metadata": {
        "id": "ejIrbcU2fchJ"
      },
      "execution_count": null,
      "outputs": []
    }
  ]
}